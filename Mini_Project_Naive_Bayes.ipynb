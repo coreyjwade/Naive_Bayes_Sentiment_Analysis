{
 "cells": [
  {
   "cell_type": "markdown",
   "metadata": {},
   "source": [
    "# Basic Text Classification with Naive Bayes\n",
    "***\n",
    "This notebook presents the basics of text analysis using a subset of movie reviews from the rotten tomatoes database. I will use a fundamental technique in Bayesian inference, called Naive Bayes." 
   "source": [
    "%matplotlib inline\n",
    "import numpy as np\n",
    "import scipy as sp\n",
    "import matplotlib as mpl\n",
    "import matplotlib.cm as cm\n",
    "import matplotlib.pyplot as plt\n",
    "import pandas as pd\n",
    "import seaborn as sns\n",
    "from six.moves import range\n",
    "\n",
    "# Setup Pandas\n",
    "pd.set_option('display.width', 500)\n",
    "pd.set_option('display.max_columns', 100)\n",
    "pd.set_option('display.notebook_repr_html', True)\n",
    "\n",
    "# Setup Seaborn\n",
    "sns.set_style(\"whitegrid\")\n",
    "sns.set_context(\"poster\")"
   ]
  },
  {
   "cell_type": "markdown",
   "metadata": {},
   "source": [
    "# Table of Contents\n",
    "\n",
    "* [Rotten Tomatoes Dataset](#Rotten-Tomatoes-Dataset)\n",
    "    * [Explore](#Explore)\n",
    "* [The Vector Space Model and a Search Engine](#The-Vector-Space-Model-and-a-Search-Engine)\n",
    "    * [In Code](#In-Code)\n",
    "* [Naive Bayes](#Naive-Bayes)\n",
    "    * [Multinomial Naive Bayes and Other Likelihood Functions](#Multinomial-Naive-Bayes-and-Other-Likelihood-Functions)\n",
    "    * [Picking Hyperparameters for Naive Bayes and Text Maintenance](#Picking-Hyperparameters-for-Naive-Bayes-and-Text-Maintenance)\n",
    "* [Interpretation](#Interpretation)\n"
   ]
  },
  {
   "cell_type": "markdown",
   "metadata": {},
   "source": [
    "## Rotten Tomatoes Dataset"
   ]
  },
  {
   "cell_type": "code",
   "execution_count": 2,
   "metadata": {},
   "outputs": [
    {
     "data": {
      "text/html": [
       "<div>\n",
       "<style scoped>\n",
       "    .dataframe tbody tr th:only-of-type {\n",
       "        vertical-align: middle;\n",
       "    }\n",
       "\n",
       "    .dataframe tbody tr th {\n",
       "        vertical-align: top;\n",
       "    }\n",
       "\n",
       "    .dataframe thead th {\n",
       "        text-align: right;\n",
       "    }\n",
       "</style>\n",
       "<table border=\"1\" class=\"dataframe\">\n",
       "  <thead>\n",
       "    <tr style=\"text-align: right;\">\n",
       "      <th></th>\n",
       "      <th>critic</th>\n",
       "      <th>fresh</th>\n",
       "      <th>imdb</th>\n",
       "      <th>publication</th>\n",
       "      <th>quote</th>\n",
       "      <th>review_date</th>\n",
       "      <th>rtid</th>\n",
       "      <th>title</th>\n",
       "    </tr>\n",
       "  </thead>\n",
       "  <tbody>\n",
       "    <tr>\n",
       "      <th>1</th>\n",
       "      <td>Derek Adams</td>\n",
       "      <td>fresh</td>\n",
       "      <td>114709</td>\n",
       "      <td>Time Out</td>\n",
       "      <td>So ingenious in concept, design and execution ...</td>\n",
       "      <td>2009-10-04</td>\n",
       "      <td>9559</td>\n",
       "      <td>Toy story</td>\n",
       "    </tr>\n",
       "    <tr>\n",
       "      <th>2</th>\n",
       "      <td>Richard Corliss</td>\n",
       "      <td>fresh</td>\n",
       "      <td>114709</td>\n",
       "      <td>TIME Magazine</td>\n",
       "      <td>The year's most inventive comedy.</td>\n",
       "      <td>2008-08-31</td>\n",
       "      <td>9559</td>\n",
       "      <td>Toy story</td>\n",
       "    </tr>\n",
       "    <tr>\n",
       "      <th>3</th>\n",
       "      <td>David Ansen</td>\n",
       "      <td>fresh</td>\n",
       "      <td>114709</td>\n",
       "      <td>Newsweek</td>\n",
       "      <td>A winning animated feature that has something ...</td>\n",
       "      <td>2008-08-18</td>\n",
       "      <td>9559</td>\n",
       "      <td>Toy story</td>\n",
       "    </tr>\n",
       "    <tr>\n",
       "      <th>4</th>\n",
       "      <td>Leonard Klady</td>\n",
       "      <td>fresh</td>\n",
       "      <td>114709</td>\n",
       "      <td>Variety</td>\n",
       "      <td>The film sports a provocative and appealing st...</td>\n",
       "      <td>2008-06-09</td>\n",
       "      <td>9559</td>\n",
       "      <td>Toy story</td>\n",
       "    </tr>\n",
       "    <tr>\n",
       "      <th>5</th>\n",
       "      <td>Jonathan Rosenbaum</td>\n",
       "      <td>fresh</td>\n",
       "      <td>114709</td>\n",
       "      <td>Chicago Reader</td>\n",
       "      <td>An entertaining computer-generated, hyperreali...</td>\n",
       "      <td>2008-03-10</td>\n",
       "      <td>9559</td>\n",
       "      <td>Toy story</td>\n",
       "    </tr>\n",
       "  </tbody>\n",
       "</table>\n",
       "</div>"
      ],
      "text/plain": [
       "               critic  fresh    imdb     publication                                              quote review_date  rtid      title\n",
       "1         Derek Adams  fresh  114709        Time Out  So ingenious in concept, design and execution ...  2009-10-04  9559  Toy story\n",
       "2     Richard Corliss  fresh  114709   TIME Magazine                  The year's most inventive comedy.  2008-08-31  9559  Toy story\n",
       "3         David Ansen  fresh  114709        Newsweek  A winning animated feature that has something ...  2008-08-18  9559  Toy story\n",
       "4       Leonard Klady  fresh  114709         Variety  The film sports a provocative and appealing st...  2008-06-09  9559  Toy story\n",
       "5  Jonathan Rosenbaum  fresh  114709  Chicago Reader  An entertaining computer-generated, hyperreali...  2008-03-10  9559  Toy story"
      ]
     },
     "execution_count": 2,
     "metadata": {},
     "output_type": "execute_result"
    }
   ],
   "source": [
    "critics = pd.read_csv('./critics.csv')\n",
    "#let's drop rows with missing quotes\n",
    "critics = critics[~critics.quote.isnull()]\n",
    "critics.head()"
   ]
  },
  {
   "cell_type": "markdown",
   "metadata": {},
   "source": [
    "### Explore"
   ]
  },
  {
   "cell_type": "code",
   "execution_count": 3,
   "metadata": {},
   "outputs": [
    {
     "name": "stdout",
     "output_type": "stream",
     "text": [
      "Number of reviews: 15561\n",
      "Number of critics: 623\n",
      "Number of movies:  1921\n"
     ]
    }
   ],
   "source": [
    "n_reviews = len(critics)\n",
    "n_movies = critics.rtid.unique().size\n",
    "n_critics = critics.critic.unique().size\n",
    "\n",
    "\n",
    "print(\"Number of reviews: {:d}\".format(n_reviews))\n",
    "print(\"Number of critics: {:d}\".format(n_critics))\n",
    "print(\"Number of movies:  {:d}\".format(n_movies))"
   ]
  },
  {
   "cell_type": "code",
   "execution_count": 4,
   "metadata": {},
   "outputs": [
    {
     "data": {
      "image/png": "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\n",
      "text/plain": [
       "<matplotlib.figure.Figure at 0x1a11f6d780>"
      ]
     },
     "metadata": {},
     "output_type": "display_data"
    }
   ],
   "source": [
    "df = critics.copy()\n",
    "df['fresh'] = df.fresh == 'fresh'\n",
    "grp = df.groupby('critic')\n",
    "counts = grp.critic.count()  # number of reviews by each critic\n",
    "means = grp.fresh.mean()     # average freshness for each critic\n",
    "\n",
    "means[counts > 100].hist(bins=10, edgecolor='w', lw=1)\n",
    "plt.xlabel(\"Average Rating per critic\")\n",
    "plt.ylabel(\"Number of Critics\")\n",
    "plt.yticks([0, 2, 4, 6, 8, 10]);"
   ]
  },
  {
   "cell_type": "markdown",
   "metadata": {},
   "source": [
    "<div class=\"span5 alert alert-info\">\n",
    "<h3>Exercise Set I</h3>\n",
    "<br/>\n",
    "<b>Exercise:</b> Look at the histogram above. Tell a story about the average ratings per critic. What shape does the distribution look like? What is interesting about the distribution? What might explain these interesting things?\n",
    "</div>"
   ]
  },
  {
   "cell_type": "markdown",
   "metadata": {},
   "source": [
    "The histogram is unimodal with a surprising gap between 0.5 and 0.6. Otherwise it's reasonably symmetric. This could be explained by bin sizes that do not correspond well with the data."
   ]
  },
  {
   "cell_type": "markdown",
   "metadata": {},
   "source": [
    "### Resize Bins"
   ]
  },
  {
   "cell_type": "code",
   "execution_count": 5,
   "metadata": {},
   "outputs": [
    {
     "data": {
      "image/png": "iVBORw0KGgoAAAANSUhEUgAAAY0AAAEVCAYAAAAckrn/AAAABHNCSVQICAgIfAhkiAAAAAlwSFlzAAALEgAACxIB0t1+/AAAADl0RVh0U29mdHdhcmUAbWF0cGxvdGxpYiB2ZXJzaW9uIDIuMS4yLCBodHRwOi8vbWF0cGxvdGxpYi5vcmcvNQv5yAAAIABJREFUeJzt3XmcZPO5x/HPGGPsXJm5GUsYWx5ji5ggiFhvQoSQIIhr38U6lrGPnRAidkksEUusiZ3Yg9g6ceNGewSxhOASu8EYff94TpkzNV01v6o+VXW6+/t+veZV3b9Tdc7TZ7rPc37ntw3p6elBREQkxQydDkBERPoPJQ0REUmmpCEiIsmUNEREJJmShoiIJFPSEBGRZDN2OoBW6urqUn9iEZEmjB07dkhv5QM6aQCMHTu20yHU1N3dDcCYMWM6HEk56HxMTedjCp2LqbX6fHR1ddXcpsdTIiKSTElDRESSKWmIiEgyJQ0REUmmpCEiIsmUNEREJJmShoiIJFPSEBGRZAN+cJ9IPR9NmszMw4Z2OoxetWrgVpl/Zik/JQ0Z1GYeNpTR42/qdBht9fyJ63c6BOnH9HhKRESSKWmIiEgyJQ0REUmmpCEiIsmUNEREJJmShoiIJFPSEBGRZEoaIiKSTElDRESSKWmIiEgyJQ0REUmmpCEiIsmUNEREJJmShoiIJFPSEBGRZEoaIiKSTIswiQwy/XHlvr6uYtgff+ayUtIQGWS0WqH0hR5PiYhIMiUNERFJpqQhIiLJlDRERCSZkoaIiCRT0hARkWRKGiIikkxJQ0REkilpiIhIso6OCDezDYFL3X2OXNkQ4BBgF2AE8ACwp7s/1ZkoRUSkomM1DTNbBfgNMKRq0xHAYcApwObAXMCdZjZXeyMUEZFqba9pmNlwYG/gGOADYKbctjmA/YEJ7v7zrOyPwAvADsCp7Y5XRESm6FNNw8xmbeJj6wEHAwcAZ1Rt+zowO3B9pcDd3wLuBdZtMkwRESlIctIws13NbJPs67Fm9grwnplda2azNHDMR4GFs5pET9W2L2evz1aVP5fbJiIiHZL0eMrM9iXaGI4FrgZOB4YSNYXtgCOB8Sn7cveX62yeE/jY3T+pKn8v29aw7u7uZj7WFhMnTgTKHWM7deJ89HWdBuk/BtLfWSevHak1je2Bc939SDMbBawCHOPu+xAN15sVFM8Qpq19VMo/K+gYIiLSpNSG8MWAfbKv1yEu7Ddn3z8BzFdQPO8Aw81smLtPypXPnm1rWJnvJCt3CWWOsZ10PqSVBtLvVav/Vrq6umpuS61pvEdcuAH+C/inuz+Xfb8g8EbT0U3t70StYuGq8kUAL+gYIiLSpNSk0QXsb2ZbAJsANwCY2fLAocD9BcXzIPARsFGlwMz+A1gduLOgY4iISJNSH0/tD9wBXAq8DJyQld8CTAIOLyIYd3/fzM4AjjWzz4CniaT0LvDLIo4hIiLNS0oa7v43M1scWBJ4wt0nZpu2Bx5w97cLjOkQotF7f+KR2IPANu7eVJuGiIgUp5ER4fMBK7j7IwBmtjSwAfAU0FTScPcJwISqsk+J7rtJXXhFRKR9kto0zGwF4DFgv1zx3ERX20fMbKkWxCYiIiWT2hB+HNG1dmylwN3vBxYCngSOLz40EREpm9Sk8TXghOq2C3d/D/gpMdhPREQGuNSkMQSoNb/UUGDmYsIREZEyS00aDwPjsmnNP2dmw4hpzh8uOjARESmf1N5TxwB3A8+Y2fXAq8AXid5To4C1WhOeiIiUSVJNw90fAL4FvATsChwF7EYkj3Wz7SIiMsAlj9Nw93uAVbJHVPMA77j7h60KTEREyqdm0jCz/wTedPfJ2dd5k4HZzawyiSHu/nqLYhQRkZKoV9P4F7AaMY3Hq/S+zkXe0KKCEhGRcqqXNI4GXsx9Pb2kISIiA1zNpOHuR+W+nlBvJ2a2QIExiYhISaXOPTXZzFausW1N4G+FRiUiIqVUryF8L6aM9B4CbGVmq/Xy1jXQoysRkUGhXpvGvMBB2dc9xLiM3vQAJxUZlIiIlFO9pHEkcC5Ry3gO2JSYHj1vMvC2u7/fmvBERKRM6jWEfwK8AJ+3W/w5m9VWREQGqXptGpsBd7j7v4l5ptYzs5o7cvcriw9PRETKpN7jqSuAbxCD+64g2i6G1HhvD6CkISIywNVLGmsSq/VVvhYRkUGuXpvGvblvtwF+pdlsRUQGt9RFmDYH5mxlICIiUn6pU6M/DiwP3NLCWD5nZkOBccDOxCJPfwMOdve72nF8ERHpXWrSuAY4zszWINo5Xq3a3uPuJxcY1wHAscARwCPA9sCtZraSu/+lwOOIiEgDUpNGJSGsnf2r1pN7TxG2AS5z9+MBzOxuoifXDsCPCzyOiIg0IDVpLNzSKKY1HHi38k22ENQ7xIqBIiLSIUlJw91faHUgVc4CjjCz64ipS7YFlgIObXRH3d3dxUZWoIkTJwLljrGdOnE+xowZ07ZjSWcNpL+zTl476iYNM5sB2BF43d1/lyufEfgzcJ67n9WCuM4B1gLuyJUd5u7Xt+BYIiKSqN40IkOAS4jutucCv8ttnhf4AvBzMxvr7tsXFVB23NuAJYHdgW5gHeBIM3u70SRV5jvJyl1CmWNsJ50PaaWB9HvV6r+Vrq6umtvqjdPYEtgCOBzYJ7/B3V8CvkQsA7uNmW3c9zA/tyrR6L2ru5/j7ve4+2HAqcBPzGz2Ao8lIiINqJc0dgYucffj3X1S9UZ3/yxbEvYGiu3R9KXs9aGq8vuBWYHRBR5LREQaUC9pLMHUj6RquQIoso70dPa6alX5SsCnwD8LPJaIiDSgXkP4bEDK4kr/R4FTjLh7l5ndBJxtZvMQbRprEKsInu7ubxd1LBERaUy9pPESUdv4w3T2sQTTjhDvq02JEeGHEmMz/g7sBZxX8HFERKQB9ZLGrcCuZnZetorfNMxsOLArUOjst+4+kZh7alyR+xURkb6p16ZxJrAQ8HszW6B6o5ktCFwHWPZeEREZ4Oqtp/Gsme0IXAg8Z2Z/AZ7NPrMIsBzwGbCnuz/ajmBFRKSz6q6n4e5XACsTNYqliIF+mwCLEr2mvubuamcQERkkpjv3lLs/DvwQwMy+AExWDyYRkcEpdZZbANz9zVYFIiIi5Ze63KuIiIiShoiIpFPSEBGRZDWThplNyMZiiIiIAPVrGgeQLfNqZpPNbJX2hCQiImVVr/fUB8CPzWwUMARYu7eR4RXufmXRwYmISLnUSxq/BMYDPwB6gKPqvLcHUNIQERng6k0jcoiZXUYs63o3McvsE+0KTEREyqfu4D53/18AM7sYuMXdn21LVCIiUkpJI8LdfTsAM1sVWAeYG3gDuNvdH2xdeCIiUiZJScPMZgAuBrYkGsUreszsKmALd+9pQXwiIlIiqYP79iUSxknEDLezAosDPyFmvd27JdGJiEippE5YuANwlrsfkit7FjjYzGYDtgd+VnRwIiJSLqk1jYWBm2tsuwVYrJhwRESkzFKTxqvA/DW2zU8MBBQRkQEuNWncBRxuZgvlC81sNHAYcEfBcYmISAmltmkcAWwIdJvZfcArwHzAN4GJROIolJmtDRwPLAu8DlwEHO3uk4s+loiIpEmqabj7y8BKwLXAV4CtstdrgRWLHvSXjQe5BegG1gfOBA6iBclJRETSJS/36u7PEcmiHU4Ebnf3bbPv78rWJ1+T+nNgiYhICzW0Rng7mNlIYFVgo3y5u4/vTEQiIlJRuqQBLEOMOv/AzG4A/gt4FzibaNP4rJPBiYgMZmVMGiOz118DlwGnAqsT7RkTiVHpybq7uwsNrkgTJ04Eyh1jO3XifIwZM6Ztx5LOGkh/Z528dpQxaQzLXm9z9wOyr+82sxHAYWZ2inpQtcaCoxdhtlmGdzoMESmx1AkLJwBXV6ZKb7H3s9dbq8r/AOwBjCamMElS5jvJyl1CmWIcPf6mTofQVs+fuH6nQ5A2KdPfWV+1+trR1dVVc1vq4L4DiYkK2+GZ7HWmqvJKDUSz6YqIdEhq0ngGGNXKQHKeBF4GNq0qX58YVPh8m+IQEZEqqW0aZwCnmdnXiCVfX61+g7sXska4u39mZocAF5vZOcDVxMJP2wC7qfeUiEjnpCaN87LXHWps7wEKSRoA7v5rM5sEHAJsB7wE7Oru5xd1DBERaVxq0lizpVH0wt0vBy5v93FFRKS21DXC7211ICIiUn7J4zTMbBZgd2A9Yg2NTbKvH3T3B1sTnoiIlElS7ykzmwd4mFgTfAHgy8BwYF3gDjNbqWURiohIaaR2uT0BmBcYCyxNzA0F8H1i+vIjig9NRETKJjVpfA84wt0fJze4zt3fBU4GVmhBbCIiUjKpSWMu4B81tr0FzFFMOCIiUmapSeNpYIMa29bOtouIyACX2nvqbOBsM5sMXEc8ohptZqsDewLjWhSfiIiUSOo4jfPMbHFgH2Km2SHAVdnms9397BbFJyIiJdLIGuH7m9nZxDxQI4i2jLvc3VsVnIiIlEtDizC5+3NmdgnRMP5vd/+kNWGJiBTno0mTmXnY0E6HUZiUdTRa9TM3MiJ8VeBY4BtEA/pkM/sjMN7dHy08MhGRgsw8bKgWGCtI6ojw7wD3AosDvwCOBi4AlgTuM7MVWxKdiIiUSmpN40jgfuDb7v5xpdDMxgF3AifRgZlwRUSkvVLHaSwLnJpPGADu/gExH5XmnhIRGQRSk8a/iB5TvRkGvFlMOCIiUmapSeN44FgzWz5faGYLA0cRtQ0RERngarZpmNmTVUUjgEfMzImaxzzAMsBHxBQjZ7QqSBERKYd6DeGvk5vRFngt9/VQ4B2icRziEZWIiAxwNZOGu6/RxjhERKQfSG3TEBERSRunYWbzA2cBqwFz9/KWHndvaEoSERHpf1Iv9OcB3wZ+D7zB1G0dLWNmw4HHgYfdfdt2HFNERGpLTRqrAQe6+2mtDKYXRwJLAA+3+bgiItKL1DaND4C2ToFuZl8F9iJqNiIiUgKpSeNCYBcza0u7RXacC4CTgZfbcUwREZm+1CRwFPAY8LSZPUrUPPJ63H2HAuM6CJgJOAHYuC876u7uLiSgVpg4cSJQnhhT5ugXkf6jFdeWRma5XTr7et5etvcAhSQNM1sCOBRY290/MbMidisiIgVITRo7AJcDe7j7260KxsxmAH4F/Mrd/1TEPst891y5CyhzjCLSfzV7benq6qq5LTVpzAFc2MqEkdkTWAj4blX7yRAzm9HdP23x8UVEpI7UhvAHgLGtDCSzMTA/8G9gUvbvK8DWwCQzG92GGEREpIbUmsbhwO/MbBZiksL3qBrg5+6PFBDPLkStJu9S4GmiMf6VAo4hIiJNSk0alfaFI5h2NPiQrGxoX4Nx92nGgpjZROBNd3+sr/sXEZG+SU0a29OmqUNERKS8kpKGu1/U4jjqHXu5Th1bRESmljrL7Ten9x53v6/v4YiISJmlPp66h+k/nupzm4aIiJRbatLYopeyOYG1gDVqbBcRkQEmtU3jtzU2/cLMziIayu8pKigRESmnIpZ7vQ7YoID9iIhIyRWRNKyg/YiISMml9p46sJfiocCCxBQftxYZlIiIlFNqQ/iJdbbdB+xTQCwiIlJyqUlj4V7KeoB32zDzrYiIlERq76kXWh2IiIiUX82kkTIKPG+gjQj/aNJkZh7W2vGKWnxJRPqbejWNe0ifpLBnOvvqd2YeNpTR42/qdBht9fyJ63c6BBEpuXoX+umN8v4iMAGYG3i0qIBERKS8aiaNOqPAMbMNgUOA2YnEcVzhkYmISOk09EjJzGYFTiemDXkG2MDdVcsQERkkkkdym9nXgf8BdgDOA5ZTwhARGVymW9Mws6HEI6iDgDeA9d39lhbHJSIiJVQ3aZjZl4FLgbHExIQ7u/ub7QhMRETKp944jd2BnwCfAtu5+8Vti0pEREqpXk3jzOx1MnCOmZ1T57097j5bcWGJiEgZ1UsavyZ9cJ+IiAwC9cZpbNvGOKaSNb7vDexETL/+AnA2cJa7K5GJiHRIWaf+OBwYDxwDPASsBvwMmJVoZxERkQ4oXdIwsxmA/YCT3b0y0vxOMxsJ7I+ShohIx5Rxmda5iPaUa6vKHRhpZmpwFxHpkNLVNNz9LeDHvWzaAPinu3/Q5pBERCRTuqTRGzPbEVgH2KvRz3Z3dzd1TK11ISL9XbPXv3rK+HhqKmb2I+Bc4GqmjB0REZEOKHVNw8z2BX4KXA/8qJnutqoxiMhg1ez1r6urq+a20tY0zOx44FTgEmATd/+kwyGJiAx6pUwaZrY3cDCxdse27v5ph0MSERFK+HjKzOYFTgKeAK4AVjKz/FseUxIREemM0iUN4NvAcGAZ4E+9bB9JrOshIiJtVrqk4e4XARd1OAwREelFKds0RESknJQ0REQkmZKGiIgkU9IQEZFkShoiIpJMSUNERJIpaYiISDIlDRERSaakISIiyZQ0REQkmZKGiIgkU9IQEZFkShoiIpJMSUNERJIpaYiISDIlDRERSaakISIiyZQ0REQkmZKGiIgkU9IQEZFkShoiIpJMSUNERJLN2OkAajGznYADgQWAx4H93P1PnY1KRGRwK2VNw8y2Bs4FfgP8AHgbuM3MFu5oYCIig1zpkoaZDQGOBs5396Pc/WZgQ+ANYN+OBiciMsiVLmkAiwELAddXCtx9EnATsG6nghIRkXImjS9nr89UlT8HLGpmQ9scj4iIZMrYED5n9vpeVfl7RJKbDXg3dWfd3d1NBTFmzJimPiciUhbNXv/qGdLT01P4TvvCzLYELgVGuftrufKdgPOBOdz9/ZR9dXV1leuHExHpJ8aOHTukt/Iy1jTeyV7nAF7Llc8OfAZ8kLqjWj+0iIg0p4xtGn/PXhepKl8EcHdX7UFEpEPKmjReAjaqFJjZMGB94M5OBSUiIiVs0wAws92BM4ETgAeAHwPfAJZz9+c6GZuIyGBWyqQBYGbjgL2BEcQ0IuM0jYiISGeVNmmIiEj5lLFNQ0RESkpJQ0REkilpiIhIMiUNERFJVsYR4QNKXxaTMrMJwJHuPiBGtjd6LszsRmJ8TrXkqWTKrInzMRL4KfBd4obvPmCfgdINvZHzYWbPE7Nh92aCux/VihjbqYnfj1WAnwBfAf4PuBg4PpslvDCqabRQXxaTMrOlgYNbG2H7NHkulgVOB1au+vdha6NtvUbPRzbA9Q/AisBOwLbAosAtZjZTO2JupSZ+PzZm2t+Lq4D3gd+2POAWa+L3Y1HgduLn/wFwGnAQMdatUOpy2yLZYlL/AG5x992ysmGAAze6+151PjsUeBCYH5i/v9c0mjkXZjY38Bawnrvf2s54W63J87EDcAawhLu/mJUtB9wMbODuXe2Kv2h9+VvJ7eNrwJ+And39wlbG22pN/n4cBEwARrj7B1nZ8cTA6LmKnH5JNY3W6ctiUvsSU8Sf0bLo2quZc7Fs9vrX1obWEc2cj42BWysJI/vM4+4+X39OGJkiFl77OfAocFHRwXVAM+djODAJmJgre5OY6HV4kcEpabROU4tJmdlixB3DTsDHLYuuvZo5F8sSP/+xZvammX1oZleZ2ahWBtomzZ6Pp8zsSDN71cw+NrObzGzBlkbaHn1aeM3Mvkc8nho3QCY0beZ8XApMBk4ws3nMbAVgH+A6d/+oyOCUNFonZTGpqWTV0l8Cl7j7/a0Nr60aPhfERXJ49p6Ngd2JC8NdZlbonVMHNHM+RgLbEXeaOwD/DSwJ3GRm/b1DSzPnI29f4P4BNM1Qw+fD3Z8F9s/+vQk8ArxO/M4Uqr//spVZpR2i+s6nUv5ZL5/ZhaiabtiqoDqkmXNxKnC5u9+dfX+fmXUDDwGbAZcUHmX7NHM+hgEzEW08bwOY2XPEI5nvA1e2IM52aeZ8AGBmBqwObNqCuDql4fNhZjsCvyAWqvstMB9wNHFTsY67F/bUQjWN1skvJpXX62JSZvYlorvc3sCH2d3jDNm2Gc2sP/9fNXQuANz9qVzCqJQ9TPQi+Uorgmyjhs8H0Svm4UrCAHD3x4jzsUwrgmyjZs5HxfeIc3NjC+LqlGbOx3jgZnffxd3vcvffAN8hZgf/UZHB9ecLUdk1upjU2sQvydVEg9Ykok8+2ddHtCjOdmh4YS0z29zMvllVNoR4ZPVGS6Jsn2YWGnuGqGlUm5Fp70j7m74svLYu0cuo0Of2HdbM+fgSUQv/nLs/RTyqWrLI4JQ0WqfRxaRuAFao+ndqtm0FotrZXzWzsNZuwOlVNazvALMQg9r6s2bOx+3AqmY2X+4zqxN3nw+2LtS2aGrhtewm4mtUXSwHgGbOx9PAqvmCrFPNF4juu4VRm0aLuHuPmZ0InGlmbzFlMakRxMCbyoCcke7+kLu/SdwVfM7MvpHt67G2Bl+wRs9F9rHjgVuA35jZhUSPkmOAa9y9X18kmzwfpwHbE4P5jgRmBU4mEsbtbf4RCtXk+YDoljoHMX5hwGjyfBwNXGlmvwQuB0YRvTCfB35dZHyqabSQu58NHED0dLkamBv4dm7ah8OJAUkDXqPnwt1vIzoELAb8DjgUuCD7fL/XxPn4P+JO8h9EJ4AziRHi67t7zYbi/qLJv5X/zF7fZoBp4vfjKmIk+PLEgM8TiBr5Su5e3QurTzQiXEREkqmmISIiyZQ0REQkmZKGiIgkU9IQEZFkShoiIpJMSUOkA7KBadJHOo/tp8F98rncpGdPuPuy03v/QGVmo+l9FG0PMc/RM8BlwE8bnYrbzMYAZwFbAq9mZc8DT7l76toRg46ZXQRs7u4zZ9/rPHaIkobk7UKsRbycma3h7vd0OJ5OO5dYp6BiKDF76E7EaOzZgEbXov4hsGZV2SZMvXiOTOs4pp5KR+exQ5Q0BAAzW56Yx2d94BxgL+CeTsZUAi/0tq6JmV1DLIizG40njWn092li2sHd/86UifxqvUfnsQ2UNKRiV+BdYkK0i4BDzWwhd38BwMyeBN539xXzHzKzfYj5cJZwdzezkcCxwAbEZGnPAKe7+/m5z1wELEdMj7A3sU7AWsATWRzbETNzDiMmbrscODpb8rKyj+2JxXcWA/5JTCv/Q2BGd18j975dgD2IuaveAX4PHJzN9dUUd//EzN4npnbIn4sfEotFfYWYG+pVYsnOg939vezn3iZ7+7/M7GJ337b6sYqZ9QAHAv8BbE0swPQkcIS735A73tzAScT04HMS81CdDNwKbOfuF/UWv5lNIBbrWYdYUngZ4BViAbAT89OSmNmaxAzLKxCP5+4Dxrv7E7n39BBzhY0Fvgk85O5r1Tj23MQ8SRtlP9fzwLnufnoutn2Acdn7ZgO2IP5vN3f3mRs4jzNk+9oeWJSYHfk64HB3r0w/Lg1SQ7hgZnMQf5iXZou1/Iq4kO+Re9sFwArZojd5WwMPZAljbuLCtTFxEfk+cZE5L5tkL29J4kKwDXAwkTAmEHMq3Z59dlPgL8BhxKOzSrx7ZzH+T/aeM4mksUrVz3UKUWt6MNvf0dnrvWY2vdXgAGbI1jKp/JvFzBY3szMAI9p/KsfaDriCuLhvTlwUbyTOYeVnPw64MPv6e9n3tRwMrEjU+DYnbvCuMbMFsuPNSMw9tUX2s28KvEBcFFMMJ+YoupM4Jzdl8ZyV+5k2zI7RQ/w/7wLMCzxoZktX7e8A4gZhYyJxTcPMZgbuJ/7PzyDOwQ3Az8zssNxbZycS1Y+J5PHHql2lnsfzgVOAu4l5mU7Mjn1NjfdLAtU0BGAr4g/1fAB3f9HMbgV2NLMJ7v4hMVPm8cQEaocBmNkywFeJ5Uch7uoWBVbOFkyCWDnsE6Lm8gt3fyUrHwbs4e6fT3NuZosDJ7v7Ybmym4B/E3fFZ5rZLMRst793961y73uC3LTRZrYIURM5x933yJX/CXiMqBH0enHLOY5pL0g9xKyqewFn58qXBn7t7rvlym7O1gRZB+IRi5m9mG17xN1frXPst4B13f3TLO53sp9vAyIR/pB4nLixu/8u+8xN2RTaKZM6zkg05Fd+vpvNbCZgl2yG1ReB04G/Ad/KxXF99vOfRDzKrHgR2Gs6kyduDSwFbOTuv8/KbjezeYhzdGxWNpSoDXyeAPP3Kinn0cy+TPxe/szd982VTwQOydeipTFKGgJxB/kX4Bkzmz0rq6z8tRVwvru/nl3AtzKzw7NeQ9sQvYkqS41+i7h4dNnU61ZfSVxk12HqaZr/mg/C3bcEyGJYjEhAXyV+Tyvrgq9MTId9WdVn7zKzl3JF6xA16WurYvkr8Wx8PaafNM4ELs6+XoS4qA0BtnT3v1Qdf1wW+8xZ7IsQ65yPJJJeox6sXKgzz2evldXcvg18mEsYFReRPhNw9RotlwE7A2sQM6iOJhI0uXP4EVEr2drMhuUeGf5vwmy7awATcwkDAHffsZf3/rWXskaskb1eUXWsC4haszRJSWOQM7OVmLJ8am9TKO/JlIvLr4jHCauZ2QPEMpJXuvv72faRxBoHk6bZS1gg9/XH+aVLs1iWItpH1iaWtXyGWGDnE6asjzwqe32tl/2/kvt6ZPZ6R41YUvr3v5xrXH3MzO4HuoA7zWyVbGW0SuzzE3fm3yOS1T+IGs2HiceqVr2kZ+WCXHmkPAp4vZfPvdJLWW8+zqZbz6uc03mYcv4Oz/71ZmTuePVqTRUj6P3/rTcp+5vesYrYj1RR0pBdibvH7zDtxX5LYDczW8vd7yIWRfoXkSxmJS5c+bu2t4jHGdvWOFbNC1rWrnIX8DKwEvBXd/8k2/bd3Fsrd+3z9rKbUUy5I38re92M3sdcfFwrllrc/RUz24G4077MzFZ090+zAWa3EY226xCPTCZmsT/KtGs9F+HfwCgzG1I1VmRUrQ9UGW5mc7r7u7myyjl9jSnn7ySiw0JvGl12922mrIHxOTNbmKjVFLm2TOWG5ItEW0/lWLMRjfWP9ZI0JYGSxiCWNVxvBlzv7nf3sv0l4tHVXsBd7j7ZzC4meqPMSqxX/EDuI3cQvaFec/eXcvv5PtGGcBC1E8cSxAXlyHzXSTNbmbhrrNxhP0A8EtuC3KOH7H0LMSVp3EW0PyyYLVBTed9cREPo7UTje0Pc/WYzu4xIqPsSj7hGEM/qT3L3e3PHGk08oso/O5/c6DES/RnQAAAC/0lEQVRruI1o19iIqRu/t2hgH5sRPaYqfgR8Svw/vkEk8CWru7Jmq8MNJ9ooGnEPsKmZre/uN+XKDyMa8qdJKHVM7zzek71uCjySK/8+8Yh0VUBJowlKGoPbfxMX/16Xg3T3F8zsTmADM1vY3f9B1CzGExenQ6s+cipxMb3HzE4ixjIsT/SE+Tv1n1M/RdzdjjOzt4mL1kpEr5we4i6erOvqBOCULIFdCXyJ6Hn1WfYPd3/KzM4GjjezUUQj8tzZ/pbK3t+sfYk2kQlmdpW7P29mzwDbmZkT7TpLE91mh1Viz1Tu4Lcws9vd/W9NxvAbonfRRVlyeoqoLW6fbU9Zze80MxtB/L98l2g4PsrdXwcws/2AK8zsamKQ48dELXJT4IBGR8MT7S27AZeY2VFAN9HVejuiG+9H03bOq6nueXT3J83sAmDfrCZ4B9HWdDTRa2xQrJjZCupyO7jtQtxt3VbnPb8kfk/2gM8HWVV6PE2VbNz9DeDrRBfHo4jHOLtn+1grP86iWrYk5frEM+jzgauI7psHE91AlzOzObP3/jTb70rEXfY4ohbzKlELqdgz27YuMT7jTKIdYK3eBu2lyi6qBxIJ95yseEPgz0TivA7YkehddQgwn5ktlr3vauKCdSLx6KfZGCYRjeHXEMn7WqIb8H7ZW96v8dG8rYnuvNcSj2x2cvcJuWNcmR1jBLHE7G+BhYFt3P2UJmL+EFg928944v/kO9lxf9Lg7lLO487EudkwO9Y44DxgsyYSnmS03Kv0K1m30K2BP7q758pHEO0tp7n7gZ2Kr13MbFmiNnOtu3+UK68MtlzK3Z+s8dkJxNiReafT7VdkGno8Jf1KNhp7P2Lcx1FEe8G8xB32h8R8UYPBrMQjqmuzEdIfESOyDwdurJUwRPpKj6ekP1qPaOg+hpgy4zTgWWBFd3+uk4G1i7s/RDSCf4EYS3Ij0Z5xMjFxn0hL6PGUiIgkU01DRESSKWmIiEgyJQ0REUmmpCEiIsmUNEREJJmShoiIJPt/CcEc45bUh5AAAAAASUVORK5CYII=\n",
      "text/plain": [
       "<matplotlib.figure.Figure at 0x10adef860>"
      ]
     },
     "metadata": {},
     "output_type": "display_data"
    }
   ],
   "source": [
    "means[counts > 100].hist(bins=5, edgecolor='w', lw=1)\n",
    "plt.xlabel(\"Average Rating per critic\")\n",
    "plt.ylabel(\"Number of Critics\")\n",
    "plt.yticks([0, 2, 4, 6, 8, 10]);"
   ]
  },
  {
   "cell_type": "markdown",
   "metadata": {},
   "source": [
    "## The Vector Space Model and a Search Engine"
   ]
  },
  {
   "cell_type": "markdown",
   "metadata": {},
   "source": [
    "All the diagrams here are snipped from [*Introduction to Information Retrieval* by Manning et. al.]( http://nlp.stanford.edu/IR-book/) which is a great resource on text processing. For additional information on text mining and natural language processing, see [*Foundations of Statistical Natural Language Processing* by Manning and Schutze](http://nlp.stanford.edu/fsnlp/).\n",
    "\n",
    "Also check out Python packages [`nltk`](http://www.nltk.org/), [`spaCy`](https://spacy.io/), [`pattern`](http://www.clips.ua.ac.be/pattern), and their associated resources. Also see [`word2vec`](https://en.wikipedia.org/wiki/Word2vec).\n",
    "\n",
    "Let us define the vector derived from document $d$ by $\\bar V(d)$. What does this mean? Each document is treated as a vector containing information about the words contained in it. Each vector has the same length and each entry \"slot\" in the vector contains some kind of data about the words that appear in the document such as presence/absence (1/0), count (an integer) or some other statistic. Each vector has the same length because each document shared the same vocabulary across the full collection of documents -- this collection is called a *corpus*.\n",
    "\n",
    "To define the vocabulary, we take a union of all words we have seen in all documents. We then just associate an array index with them. So \"hello\" may be at index 5 and \"world\" at index 99.\n",
    "\n",
    "Suppose we have the following corpus:\n",
    "\n",
    "`A Fox one day spied a beautiful bunch of ripe grapes hanging from a vine trained along the branches of a tree. The grapes seemed ready to burst with juice, and the Fox's mouth watered as he gazed longingly at them.`\n",
    "\n",
    "Suppose we treat each sentence as a document $d$. The vocabulary (often called the *lexicon*) is the following:\n",
    "\n",
    "$V = \\left\\{\\right.$ `a, along, and, as, at, beautiful, branches, bunch, burst, day, fox, fox's, from, gazed, grapes, hanging, he, juice, longingly, mouth, of, one, ready, ripe, seemed, spied, the, them, to, trained, tree, vine, watered, with`$\\left.\\right\\}$\n",
    "\n",
    "Then the document\n",
    "\n",
    "`A Fox one day spied a beautiful bunch of ripe grapes hanging from a vine trained along the branches of a tree`\n",
    "\n",
    "may be represented as the following sparse vector of word counts:\n",
    "\n",
    "$$\\bar V(d) = \\left( 4,1,0,0,0,1,1,1,0,1,1,0,1,0,1,1,0,0,0,0,2,1,0,1,0,0,1,0,0,1,1,1,0,0 \\right)$$\n",
    "\n",
    "or more succinctly as\n",
    "\n",
    "`[(0, 4), (1, 1), (5, 1), (6, 1), (7, 1), (9, 1), (10, 1), (12, 1), (14, 1), (15, 1), (20, 2), (21, 1), (23, 1),`\n",
    "`(26, 1), (29,1), (30, 1), (31, 1)]`\n",
    "\n",
    "along with a dictionary\n",
    "\n",
    "``\n",
    "{\n",
    "    0: a, 1: along, 5: beautiful, 6: branches, 7: bunch, 9: day, 10: fox, 12: from, 14: grapes, 15: hanging, 19: mouth, 20: of, 21: one, 23: ripe, 24: seemed, 25: spied, 26: the, 29:trained, 30: tree, 31: vine, \n",
    "}\n",
    "``\n",
    "\n",
    "Then, a set of documents becomes, in the usual `sklearn` style, a sparse matrix with rows being sparse arrays representing documents and columns representing the features/words in the vocabulary.\n",
    "\n",
    "Notice that this representation loses the relative ordering of the terms in the document. That is \"cat ate rat\" and \"rat ate cat\" are the same. Thus, this representation is also known as the Bag-Of-Words representation.\n",
    "\n",
    "Here is another example, from the book quoted above, although the matrix is transposed here so that documents are columns:\n",
    "\n",
    "![novel terms](terms.png)\n",
    "\n",
    "Such a matrix is also catted a Term-Document Matrix. Here, the terms being indexed could be stemmed before indexing; for instance, `jealous` and `jealousy` after stemming are the same feature. One could also make use of other \"Natural Language Processing\" transformations in constructing the vocabulary. We could use Lemmatization, which reduces words to lemmas: work, working, worked would all reduce to work. We could remove \"stopwords\" from our vocabulary, such as common words like \"the\". We could look for particular parts of speech, such as adjectives. This is often done in Sentiment Analysis. And so on. It all depends on our application.\n",
    "\n",
    "From the book:\n",
    ">The standard way of quantifying the similarity between two documents $d_1$ and $d_2$  is to compute the cosine similarity of their vector representations $\\bar V(d_1)$ and $\\bar V(d_2)$:\n",
    "\n",
    "$$S_{12} = \\frac{\\bar V(d_1) \\cdot \\bar V(d_2)}{|\\bar V(d_1)| \\times |\\bar V(d_2)|}$$\n",
    "\n",
    "![Vector Space Model](vsm.png)\n",
    "\n",
    "\n",
    ">There is a far more compelling reason to represent documents as vectors: we can also view a query as a vector. Consider the query q = jealous gossip. This query turns into the unit vector $\\bar V(q)$ = (0, 0.707, 0.707) on the three coordinates below. \n",
    "\n",
    "![novel terms](terms2.png)\n",
    "\n",
    ">The key idea now: to assign to each document d a score equal to the dot product:\n",
    "\n",
    "$$\\bar V(q) \\cdot \\bar V(d)$$\n",
    "\n",
    "Then we can use this simple Vector Model as a Search engine."
   ]
  },
  {
   "cell_type": "markdown",
   "metadata": {},
   "source": [
    "### In Code"
   ]
  },
  {
   "cell_type": "code",
   "execution_count": 6,
   "metadata": {},
   "outputs": [
    {
     "name": "stdout",
     "output_type": "stream",
     "text": [
      "Original text is\n",
      "Hop on pop\n",
      "Hop off pop\n",
      "Hop Hop hop\n",
      "\n",
      "Transformed text vector is \n",
      "[[1 0 1 1]\n",
      " [1 1 0 1]\n",
      " [3 0 0 0]]\n",
      "\n",
      "Words for each feature:\n",
      "['hop', 'off', 'on', 'pop']\n"
     ]
    }
   ],
   "source": [
    "from sklearn.feature_extraction.text import CountVectorizer\n",
    "\n",
    "text = ['Hop on pop', 'Hop off pop', 'Hop Hop hop']\n",
    "print(\"Original text is\\n{}\".format('\\n'.join(text)))\n",
    "\n",
    "vectorizer = CountVectorizer(min_df=0)\n",
    "\n",
    "# call `fit` to build the vocabulary\n",
    "vectorizer.fit(text)\n",
    "\n",
    "# call `transform` to convert text to a bag of words\n",
    "x = vectorizer.transform(text)\n",
    "\n",
    "# CountVectorizer uses a sparse array to save memory, but it's easier in this assignment to \n",
    "# convert back to a \"normal\" numpy array\n",
    "x = x.toarray()\n",
    "\n",
    "print(\"\")\n",
    "print(\"Transformed text vector is \\n{}\".format(x))\n",
    "\n",
    "# `get_feature_names` tracks which word is associated with each column of the transformed x\n",
    "print(\"\")\n",
    "print(\"Words for each feature:\")\n",
    "print(vectorizer.get_feature_names())\n",
    "\n",
    "# Notice that the bag of words treatment doesn't preserve information about the *order* of words, \n",
    "# just their frequency"
   ]
  },
  {
   "cell_type": "code",
   "execution_count": 7,
   "metadata": {},
   "outputs": [],
   "source": [
    "def make_xy(critics, vectorizer=None):\n",
    "    #Your code here    \n",
    "    if vectorizer is None:\n",
    "        vectorizer = CountVectorizer()\n",
    "    X = vectorizer.fit_transform(critics.quote)\n",
    "    X = X.tocsc()  # some versions of sklearn return COO format\n",
    "    y = (critics.fresh == 'fresh').values.astype(np.int)\n",
    "    return X, y\n",
    "X, y = make_xy(critics)"
   ]
  },
  {
   "cell_type": "markdown",
   "metadata": {},
   "source": [
    "## Naive Bayes"
   ]
  },
  {
   "cell_type": "markdown",
   "metadata": {},
   "source": [
    "From Bayes' Theorem, we have that\n",
    "\n",
    "$$P(c \\vert f) = \\frac{P(c \\cap f)}{P(f)}$$\n",
    "\n",
    "where $c$ represents a *class* or category, and $f$ represents a feature vector, such as $\\bar V(d)$ as above. **We are computing the probability that a document (or whatever we are classifying) belongs to category *c* given the features in the document.** $P(f)$ is really just a normalization constant, so the literature usually writes Bayes' Theorem in context of Naive Bayes as\n",
    "\n",
    "$$P(c \\vert f) \\propto P(f \\vert c) P(c) $$\n",
    "\n",
    "$P(c)$ is called the *prior* and is simply the probability of seeing class $c$. But what is $P(f \\vert c)$? This is the probability that we see feature set $f$ given that this document is actually in class $c$. This is called the *likelihood* and comes from the data. One of the major assumptions of the Naive Bayes model is that the features are *conditionally independent* given the class. While the presence of a particular discriminative word may uniquely identify the document as being part of class $c$ and thus violate general feature independence, conditional independence means that the presence of that term is independent of all the other words that appear *within that class*. This is a very important distinction. Recall that if two events are independent, then:\n",
    "\n",
    "$$P(A \\cap B) = P(A) \\cdot P(B)$$\n",
    "\n",
    "Thus, conditional independence implies\n",
    "\n",
    "$$P(f \\vert c)  = \\prod_i P(f_i | c) $$\n",
    "\n",
    "where $f_i$ is an individual feature (a word in this example).\n",
    "\n",
    "To make a classification, we then choose the class $c$ such that $P(c \\vert f)$ is maximal.\n",
    "\n",
    "There is a small caveat when computing these probabilities. For [floating point underflow](http://nlp.stanford.edu/IR-book/html/htmledition/naive-bayes-text-classification-1.html) we change the product into a sum by going into log space. This is called the LogSumExp trick. So:\n",
    "\n",
    "$$\\log P(f \\vert c)  = \\sum_i \\log P(f_i \\vert c) $$\n",
    "\n",
    "There is another caveat. What if we see a term that didn't exist in the training data? This means that $P(f_i \\vert c) = 0$ for that term, and thus $P(f \\vert c)  = \\prod_i P(f_i | c) = 0$, which doesn't help us at all. Instead of using zeros, we add a small negligible value called $\\alpha$ to each count. This is called Laplace Smoothing.\n",
    "\n",
    "$$P(f_i \\vert c) = \\frac{N_{ic}+\\alpha}{N_c + \\alpha N_i}$$\n",
    "\n",
    "where $N_{ic}$ is the number of times feature $i$ was seen in class $c$, $N_c$ is the number of times class $c$ was seen and $N_i$ is the number of times feature $i$ was seen globally. $\\alpha$ is sometimes called a regularization parameter."
   ]
  },
  {
   "cell_type": "markdown",
   "metadata": {},
   "source": [
    "### Multinomial Naive Bayes and Other Likelihood Functions\n",
    "\n",
    "Since we are modeling word counts, we are using variation of Naive Bayes called Multinomial Naive Bayes. This is because the likelihood function actually takes the form of the multinomial distribution.\n",
    "\n",
    "$$P(f \\vert c) = \\frac{\\left( \\sum_i f_i \\right)!}{\\prod_i f_i!} \\prod_{f_i} P(f_i \\vert c)^{f_i} \\propto \\prod_{i} P(f_i \\vert c)$$\n",
    "\n",
    "where the nasty term out front is absorbed as a normalization constant such that probabilities sum to 1.\n",
    "\n",
    "There are many other variations of Naive Bayes, all which depend on what type of value $f_i$ takes. If $f_i$ is continuous, we may be able to use *Gaussian Naive Bayes*. First compute the mean and variance for each class $c$. Then the likelihood, $P(f \\vert c)$ is given as follows\n",
    "\n",
    "$$P(f_i = v \\vert c) = \\frac{1}{\\sqrt{2\\pi \\sigma^2_c}} e^{- \\frac{\\left( v - \\mu_c \\right)^2}{2 \\sigma^2_c}}$$"
   ]
  },
  {
   "cell_type": "markdown",
   "metadata": {},
   "source": [
    "<div class=\"span5 alert alert-info\">\n",
    "<h3>Exercise Set II</h3>\n",
    "\n",
    "<p><b>Exercise:</b> Implement a simple Naive Bayes classifier:</p>\n",
    "\n",
    "<ol>\n",
    "<li> split the data set into a training and test set\n",
    "<li> Use `scikit-learn`'s `MultinomialNB()` classifier with default parameters.\n",
    "<li> train the classifier over the training set and test on the test set\n",
    "<li> print the accuracy scores for both the training and the test sets\n",
    "</ol>\n",
    "\n",
    "What do you notice? Is this a good classifier? If not, why not?\n",
    "</div>"
   ]
  },
  {
   "cell_type": "code",
   "execution_count": 28,
   "metadata": {},
   "outputs": [
    {
     "name": "stdout",
     "output_type": "stream",
     "text": [
      "0.8494715795487003\n",
      "0.7226027397260274\n"
     ]
    }
   ],
   "source": [
    "#your turn\n",
    "from sklearn.model_selection import train_test_split\n",
    "from sklearn.naive_bayes import MultinomialNB\n",
    "\n",
    "# Split into training and test set\n",
    "X_train, X_test, y_train, y_test = train_test_split(X, y)\n",
    "\n",
    "# Create a multinomial classifier\n",
    "clf = MultinomialNB()\n",
    "\n",
    "# Fit the classifier to the data\n",
    "clf.fit(X_train, y_train)\n",
    "\n",
    "# Print the accuracy\n",
    "print(clf.score(X_train, y_train))\n",
    "print(clf.score(X_test, y_test))"
   ]
  },
  {
   "cell_type": "markdown",
   "metadata": {},
   "source": [
    "The test percentage seems is much worse than the training percentage. Perhaps the classifer is overfitting the data."
   ]
  },
  {
   "cell_type": "markdown",
   "metadata": {},
   "source": [
    "### Picking Hyperparameters for Naive Bayes and Text Maintenance"
   ]
  },
  {
   "cell_type": "markdown",
   "metadata": {},
   "source": [
    "We need to know what value to use for $\\alpha$, and we also need to know which words to include in the vocabulary. As mentioned earlier, some words are obvious stopwords. Other words appear so infrequently that they serve as noise, and other words in addition to stopwords appear so frequently that they may also serve as noise."
   ]
  },
  {
   "cell_type": "markdown",
   "metadata": {},
   "source": [
    "First, let's find an appropriate value for `min_df` for the `CountVectorizer`. `min_df` can be either an integer or a float/decimal. If it is an integer, `min_df` represents the minimum number of documents a word must appear in for it to be included in the vocabulary. If it is a float, it represents the minimum *percentage* of documents a word must appear in to be included in the vocabulary. From the documentation:"
   ]
  },
  {
   "cell_type": "markdown",
   "metadata": {},
   "source": [
    ">min_df: When building the vocabulary ignore terms that have a document frequency strictly lower than the given threshold. This value is also called cut-off in the literature. If float, the parameter represents a proportion of documents, integer absolute counts. This parameter is ignored if vocabulary is not None."
   ]
  },
  {
   "cell_type": "markdown",
   "metadata": {},
   "source": [
    "<div class=\"span5 alert alert-info\">\n",
    "<h3>Exercise Set III</h3>\n",
    "\n",
    "<p><b>Exercise:</b> Construct the cumulative distribution of document frequencies (df). The $x$-axis is a document count $x_i$ and the $y$-axis is the percentage of words that appear less than $x_i$ times. For example, at $x=5$, plot a point representing the percentage or number of words that appear in 5 or fewer documents.</p>\n",
    "\n",
    "<p><b>Exercise:</b> Look for the point at which the curve begins climbing steeply. This may be a good value for `min_df`. If we were interested in also picking `max_df`, we would likely pick the value where the curve starts to plateau. What value did you choose?</p>\n",
    "</div>"
   ]
  },
  {
   "cell_type": "code",
   "execution_count": 9,
   "metadata": {},
   "outputs": [],
   "source": [
    "def ecdf(data):\n",
    "    \"\"\"Compute ECDF for a one-dimensional array of measurements.\"\"\"\n",
    "\n",
    "    # Number of data points: n\n",
    "    n = len(data)\n",
    "\n",
    "    # x-data for the ECDF: x\n",
    "    x = np.sort(data)\n",
    "\n",
    "    # y-data for the ECDF: y\n",
    "    y = np.arange(1, n+1) / n\n",
    "\n",
    "    return x, y"
   ]
  },
  {
   "cell_type": "code",
   "execution_count": 10,
   "metadata": {},
   "outputs": [],
   "source": [
    "df = list(sorted((X > 0).sum(axis=0).reshape(-1).tolist()[0]))"
   ]
  },
  {
   "cell_type": "code",
   "execution_count": 11,
   "metadata": {},
   "outputs": [
    {
     "data": {
      "text/plain": [
       "Text(0,0.5,'ECDF')"
      ]
     },
     "execution_count": 11,
     "metadata": {},
     "output_type": "execute_result"
    },
    {
     "data": {
      "image/png": "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\n",
      "text/plain": [
       "<matplotlib.figure.Figure at 0x1a11216780>"
      ]
     },
     "metadata": {},
     "output_type": "display_data"
    }
   ],
   "source": [
    "# Compute ECDF\n",
    "x1, y1 = ecdf(df)\n",
    "\n",
    "# Generate plot\n",
    "plt.plot(x1, y1, marker='.', linestyle='none')\n",
    "\n",
    "# Make the margins nice\n",
    "plt.margins(.02)\n",
    "\n",
    "# Label the axes\n",
    "plt.xlabel('Word Count')\n",
    "plt.ylabel('ECDF')"
   ]
  },
  {
   "cell_type": "code",
   "execution_count": 12,
   "metadata": {},
   "outputs": [
    {
     "data": {
      "text/plain": [
       "(0, 100)"
      ]
     },
     "execution_count": 12,
     "metadata": {},
     "output_type": "execute_result"
    },
    {
     "data": {
      "image/png": "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\n",
      "text/plain": [
       "<matplotlib.figure.Figure at 0x1a11e66b38>"
      ]
     },
     "metadata": {},
     "output_type": "display_data"
    }
   ],
   "source": [
    "# Compute ECDF\n",
    "x1, y1 = ecdf(df)\n",
    "\n",
    "# Generate plot\n",
    "plt.plot(x1, y1, marker='.', linestyle='none')\n",
    "\n",
    "# Make the margins nice\n",
    "plt.margins(.02)\n",
    "\n",
    "# Label the axes\n",
    "plt.xlabel('Word Count')\n",
    "plt.ylabel('ECDF')\n",
    "\n",
    "#Limit axes\n",
    "plt.xlim(0,100)"
   ]
  },
  {
   "cell_type": "code",
   "execution_count": 13,
   "metadata": {},
   "outputs": [
    {
     "data": {
      "text/plain": [
       "(0, 10)"
      ]
     },
     "execution_count": 13,
     "metadata": {},
     "output_type": "execute_result"
    },
    {
     "data": {
      "image/png": "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\n",
      "text/plain": [
       "<matplotlib.figure.Figure at 0x1a10dea4a8>"
      ]
     },
     "metadata": {},
     "output_type": "display_data"
    }
   ],
   "source": [
    "# Compute ECDF\n",
    "x1, y1 = ecdf(df)\n",
    "\n",
    "# Generate plot\n",
    "plt.plot(x1, y1, marker='.', linestyle='none')\n",
    "\n",
    "# Make the margins nice\n",
    "plt.margins(.02)\n",
    "\n",
    "# Label the axes\n",
    "plt.xlabel('Word Count')\n",
    "plt.ylabel('ECDF')\n",
    "\n",
    "#Limit axes\n",
    "plt.xlim(0,10)"
   ]
  },
  {
   "cell_type": "markdown",
   "metadata": {},
   "source": [
    "The graph shoots up right away. We should use df_min>0 that is close to 0.  It's not so clear when the graph plateaus. The middle graph indicates that something like 0.95 might a good estimation for d_max."
   ]
  },
  {
   "cell_type": "markdown",
   "metadata": {},
   "source": [
    "The parameter $\\alpha$ is chosen to be a small value that simply avoids having zeros in the probability computations. This value can sometimes be chosen arbitrarily with domain expertise, but we will use K-fold cross validation. In K-fold cross-validation, we divide the data into $K$ non-overlapping parts. We train on $K-1$ of the folds and test on the remaining fold. We then iterate, so that each fold serves as the test fold exactly once. The function `cv_score` performs the K-fold cross-validation algorithm for us, but we need to pass a function that measures the performance of the algorithm on each fold. "
   ]
  },
  {
   "cell_type": "code",
   "execution_count": 14,
   "metadata": {},
   "outputs": [],
   "source": [
    "from sklearn.model_selection import KFold\n",
    "def cv_score(clf, X, y, scorefunc):\n",
    "    result = 0.\n",
    "    nfold = 5\n",
    "    for train, test in KFold(nfold).split(X): # split data into train/test groups, 5 times\n",
    "        clf.fit(X[train], y[train]) # fit the classifier, passed is as clf.\n",
    "        result += scorefunc(clf, X[test], y[test]) # evaluate score function on held-out data\n",
    "    return result / nfold # average"
   ]
  },
  {
   "cell_type": "markdown",
   "metadata": {},
   "source": [
    "We use the log-likelihood as the score here in `scorefunc`. The higher the log-likelihood, the better. Indeed, what we do in `cv_score` above is to implement the cross-validation part of `GridSearchCV`.\n",
    "\n",
    "The custom scoring function `scorefunc` allows us to use different metrics depending on the decision risk we care about (precision, accuracy, profit etc.) directly on the validation set. You will often find people using `roc_auc`, precision, recall, or `F1-score` as the scoring function."
   ]
  },
  {
   "cell_type": "code",
   "execution_count": 15,
   "metadata": {},
   "outputs": [],
   "source": [
    "def log_likelihood(clf, x, y):\n",
    "    prob = clf.predict_log_proba(x)\n",
    "    rotten = y == 0\n",
    "    fresh = ~rotten\n",
    "    return prob[rotten, 0].sum() + prob[fresh, 1].sum()"
   ]
  },
  {
   "cell_type": "markdown",
   "metadata": {},
   "source": [
    "We'll cross-validate over the regularization parameter $\\alpha$."
   ]
  },
  {
   "cell_type": "markdown",
   "metadata": {},
   "source": [
    "Let's set up the train and test masks first, and then we can run the cross-validation procedure."
   ]
  },
  {
   "cell_type": "code",
   "execution_count": 16,
   "metadata": {},
   "outputs": [
    {
     "name": "stderr",
     "output_type": "stream",
     "text": [
      "/anaconda3/lib/python3.6/site-packages/sklearn/model_selection/_split.py:2026: FutureWarning: From version 0.21, test_size will always complement train_size unless both are specified.\n",
      "  FutureWarning)\n"
     ]
    }
   ],
   "source": [
    "from sklearn.model_selection import train_test_split\n",
    "_, itest = train_test_split(range(critics.shape[0]), train_size=0.7)\n",
    "mask = np.zeros(critics.shape[0], dtype=np.bool)\n",
    "mask[itest] = True"
   ]
  },
  {
   "cell_type": "markdown",
   "metadata": {},
   "source": [
    "<div class=\"span5 alert alert-info\">\n",
    "<h3>Exercise Set IV</h3>\n",
    "\n",
    "<p><b>Exercise:</b> What does using the function `log_likelihood` as the score mean? What are we trying to optimize for?</p>\n",
    "\n",
    "<p><b>Exercise:</b> Without writing any code, what do you think would happen if you choose a value of $\\alpha$ that is too high?</p>\n",
    "\n",
    "<p><b>Exercise:</b> Using the skeleton code below, find the best values of the parameter `alpha`, and use the value of `min_df` you chose in the previous exercise set. Use the `cv_score` function above with the `log_likelihood` function for scoring.</p>\n",
    "</div>"
   ]
  },
  {
   "cell_type": "markdown",
   "metadata": {},
   "source": [
    "Log_likelihood means computing the log of the probability. This is useful for approximate exponential growth. We are trying to optimize the prediction score."
   ]
  },
  {
   "cell_type": "markdown",
   "metadata": {},
   "source": [
    "If alpha is too high, the prediction score will be off because the zero values will have greater influence than they should."
   ]
  },
  {
   "cell_type": "code",
   "execution_count": 29,
   "metadata": {},
   "outputs": [
    {
     "name": "stdout",
     "output_type": "stream",
     "text": [
      "-733.3270451266319\n",
      "-588.9992605242318\n",
      "-558.994496565196\n",
      "-632.1149672398368\n",
      "-976.4659980963299\n",
      "Maxscore: -558.994496565196\n"
     ]
    }
   ],
   "source": [
    "from sklearn.naive_bayes import MultinomialNB\n",
    "\n",
    "#the grid of parameters to search over\n",
    "alphas = [.1, 1, 5, 10, 50]\n",
    "# I tried several values to get the best results\n",
    "best_min_df = 0.001\n",
    "\n",
    "#Find the best value for alpha and min_df, and the best classifier\n",
    "best_alpha = None\n",
    "maxscore=-np.inf\n",
    "for alpha in alphas:        \n",
    "    vectorizer = CountVectorizer(min_df=best_min_df)       \n",
    "    Xthis, ythis = make_xy(critics, vectorizer)\n",
    "    Xtrainthis = Xthis[mask]\n",
    "    ytrainthis = ythis[mask]\n",
    "    # your turn\n",
    "    X = Xtrainthis\n",
    "    y = ytrainthis\n",
    "    clf = MultinomialNB(alpha=alpha)\n",
    "    scorefunc = log_likelihood\n",
    "    score = cv_score(clf, X, y, scorefunc)\n",
    "    print(score)\n",
    "    if score > maxscore:\n",
    "        maxscore = score\n",
    "        best_alpha = alpha\n",
    "print(\"Maxscore:\", maxscore)  "
   ]
  },
  {
   "cell_type": "code",
   "execution_count": 18,
   "metadata": {},
   "outputs": [
    {
     "name": "stdout",
     "output_type": "stream",
     "text": [
      "alpha: 5\n"
     ]
    }
   ],
   "source": [
    "print(\"alpha: {}\".format(best_alpha))"
   ]
  },
  {
   "cell_type": "markdown",
   "metadata": {},
   "source": [
    "It's no surprise that the lowest alpha results in the best value."
   ]
  },
  {
   "cell_type": "markdown",
   "metadata": {},
   "source": [
    "<div class=\"span5 alert alert-info\">\n",
    "<h3>Exercise Set V: Working with the Best Parameters</h3>\n",
    "\n",
    "<p><b>Exercise:</b> Using the best value of  `alpha` you just found, calculate the accuracy on the training and test sets. Is this classifier better? Why (not)?</p>\n",
    "\n",
    "</div>"
   ]
  },
  {
   "cell_type": "code",
   "execution_count": 19,
   "metadata": {},
   "outputs": [
    {
     "name": "stdout",
     "output_type": "stream",
     "text": [
      "Accuracy on training data: 0.799315\n",
      "Accuracy on test data:     0.718234\n"
     ]
    }
   ],
   "source": [
    "vectorizer = CountVectorizer(min_df=best_min_df)\n",
    "X, y = make_xy(critics, vectorizer)\n",
    "xtrain=X[mask]\n",
    "ytrain=y[mask]\n",
    "xtest=X[~mask]\n",
    "ytest=y[~mask]\n",
    "\n",
    "clf = MultinomialNB(alpha=best_alpha).fit(xtrain, ytrain)\n",
    "\n",
    "#your turn. Print the accuracy on the test and training dataset\n",
    "training_accuracy = clf.score(xtrain, ytrain)\n",
    "test_accuracy = clf.score(xtest, ytest)\n",
    "\n",
    "print(\"Accuracy on training data: {:2f}\".format(training_accuracy))\n",
    "print(\"Accuracy on test data:     {:2f}\".format(test_accuracy))"
   ]
  },
  {
   "cell_type": "markdown",
   "metadata": {},
   "source": [
    "The test data is not much different, but the model no longer overfits."
   ]
  },
  {
   "cell_type": "code",
   "execution_count": 20,
   "metadata": {},
   "outputs": [
    {
     "name": "stdout",
     "output_type": "stream",
     "text": [
      "[[2195 2048]\n",
      " [1021 5628]]\n"
     ]
    }
   ],
   "source": [
    "from sklearn.metrics import confusion_matrix\n",
    "print(confusion_matrix(ytest, clf.predict(xtest)))"
   ]
  },
  {
   "cell_type": "markdown",
   "metadata": {},
   "source": [
    "## Interpretation"
   ]
  },
  {
   "cell_type": "markdown",
   "metadata": {},
   "source": [
    "### What are the strongly predictive features?\n",
    "\n",
    "We use a neat trick to identify strongly predictive features (i.e. words). \n",
    "\n",
    "* first, create a data set such that each row has exactly one feature. This is represented by the identity matrix.\n",
    "* use the trained classifier to make predictions on this matrix\n",
    "* sort the rows by predicted probabilities, and pick the top and bottom $K$ rows"
   ]
  },
  {
   "cell_type": "code",
   "execution_count": 21,
   "metadata": {},
   "outputs": [
    {
     "name": "stdout",
     "output_type": "stream",
     "text": [
      "Good words\t     P(fresh | word)\n",
      "        entertaining 0.87\n",
      "         performance 0.86\n",
      "         beautifully 0.85\n",
      "            touching 0.85\n",
      "             perfect 0.85\n",
      "         intelligent 0.84\n",
      "               charm 0.82\n",
      "               enjoy 0.82\n",
      "         masterpiece 0.82\n",
      "              moving 0.82\n",
      "Bad words\t     P(fresh | word)\n",
      "               worst 0.29\n",
      "            supposed 0.29\n",
      "               feels 0.29\n",
      "               given 0.29\n",
      "           pointless 0.28\n",
      "                dull 0.28\n",
      "                lame 0.27\n",
      "             tedious 0.26\n",
      "       unfortunately 0.25\n",
      "               video 0.22\n"
     ]
    }
   ],
   "source": [
    "words = np.array(vectorizer.get_feature_names())\n",
    "\n",
    "x = np.eye(xtest.shape[1])\n",
    "probs = clf.predict_log_proba(x)[:, 0]\n",
    "ind = np.argsort(probs)\n",
    "\n",
    "good_words = words[ind[:10]]\n",
    "bad_words = words[ind[-10:]]\n",
    "\n",
    "good_prob = probs[ind[:10]]\n",
    "bad_prob = probs[ind[-10:]]\n",
    "\n",
    "print(\"Good words\\t     P(fresh | word)\")\n",
    "for w, p in zip(good_words, good_prob):\n",
    "    print(\"{:>20}\".format(w), \"{:.2f}\".format(1 - np.exp(p)))\n",
    "    \n",
    "print(\"Bad words\\t     P(fresh | word)\")\n",
    "for w, p in zip(bad_words, bad_prob):\n",
    "    print(\"{:>20}\".format(w), \"{:.2f}\".format(1 - np.exp(p)))"
   ]
  },
  {
   "cell_type": "markdown",
   "metadata": {},
   "source": [
    "<div class=\"span5 alert alert-info\">\n",
    "<h3>Exercise Set VI</h3>\n",
    "\n",
    "<p><b>Exercise:</b> Why does this method work? What does the probability for each row in the identity matrix represent</p>\n",
    "\n",
    "</div>"
   ]
  },
  {
   "cell_type": "markdown",
   "metadata": {},
   "source": [
    "This method works because it's counting the probability of common words. The probability is the conditional probability that the review is freshed given that the particular word is in the review."
   ]
  },
  {
   "cell_type": "markdown",
   "metadata": {},
   "source": [
    "The above exercise is an example of *feature selection*. There are many other feature selection methods. A list of feature selection methods available in `sklearn` is [here](http://scikit-learn.org/stable/modules/classes.html#module-sklearn.feature_selection). The most common feature selection technique for text mining is the chi-squared $\\left( \\chi^2 \\right)$ [method](http://nlp.stanford.edu/IR-book/html/htmledition/feature-selectionchi2-feature-selection-1.html)."
   ]
  },
  {
   "cell_type": "markdown",
   "metadata": {},
   "source": [
    "### Prediction Errors\n",
    "\n",
    "We can see mis-predictions as well."
   ]
  },
  {
   "cell_type": "code",
   "execution_count": 24,
   "metadata": {},
   "outputs": [
    {
     "name": "stdout",
     "output_type": "stream",
     "text": [
      "Mis-predicted Rotten quotes\n",
      "---------------------------\n",
      "It is sometimes funny in a puzzling kind of way, it is generally overwrought in an irritating kind of way, and once in a while it is inappropriately touching.\n",
      "\n",
      "Lauded as a witty moral fable with a revelatory performance from its star, this romantic comedy is in fact meretricious, manipulative and reactionary.\n",
      "\n",
      "Walken is one of the few undeniably charismatic male villains of recent years; he can generate a snakelike charm that makes his worst characters the most memorable, and here he operates on pure style.\n",
      "\n",
      "Directed with composure, but no great fervour, the film's conspicuously uninterested in American football, and much concerned with testing the limits and the resilience of the American dream.\n",
      "\n",
      "Irons gives an excruciating performance - what Streep's genuinely warm, wonderful Clara sees in him you'd need ESP to fathom.\n",
      "\n",
      "Mis-predicted Fresh quotes\n",
      "--------------------------\n",
      "Though it's a good half hour too long, this overblown 1993 spin-off of the 60s TV show otherwise adds up to a pretty good suspense thriller.\n",
      "\n",
      "Might it be a serious attempt to right some unretrievable wrong via gallows humor which avoids the polemics? This seems to be the course taken; the attempt at least can be respected in theory.\n",
      "\n",
      "This tough-to-peg whodunit keeps you going for two hours, despite a few James Bond-ish (or Jane Bond-ish) turns that play less preposterously than you might assume were they to be divulged.\n",
      "\n",
      "The gangland plot is flimsy (bad guy Peter Greene wears too much eyeliner), and the jokes are erratic, but it's a far better showcase for Carrey's comic-from-Uranus talent than Ace Ventura.\n",
      "\n",
      "Some of the gags don't work, but fewer than in any previous Brooks film that I've seen, and when the jokes are meant to be bad, they are riotously poor. What more can one ask of Mel Brooks?\n",
      "\n"
     ]
    }
   ],
   "source": [
    "x, y = make_xy(critics, vectorizer)\n",
    "\n",
    "prob = clf.predict_proba(x)[:, 0]\n",
    "predict = clf.predict(x)\n",
    "\n",
    "bad_rotten = np.argsort(prob[y == 0])[:5]\n",
    "bad_fresh = np.argsort(prob[y == 1])[-5:]\n",
    "\n",
    "print(\"Mis-predicted Rotten quotes\")\n",
    "print('---------------------------')\n",
    "for row in bad_rotten:\n",
    "    print(critics[y == 0].quote.iloc[row])\n",
    "    print(\"\")\n",
    "\n",
    "print(\"Mis-predicted Fresh quotes\")\n",
    "print('--------------------------')\n",
    "for row in bad_fresh:\n",
    "    print(critics[y == 1].quote.iloc[row])\n",
    "    print(\"\")"
   ]
  },
  {
   "cell_type": "markdown",
   "metadata": {},
   "source": [
    "<div class=\"span5 alert alert-info\">\n",
    "<h3>Exercise Set VII: Predicting the Freshness for a New Review</h3>\n",
    "<br/>\n",
    "<div>\n",
    "<b>Exercise:</b>\n",
    "<ul>\n",
    "<li> Using your best trained classifier, predict the freshness of the following sentence: *'This movie is not remarkable, touching, or superb in any way'*\n",
    "<li> Is the result what you'd expect? Why (not)?\n",
    "</ul>\n",
    "</div>\n",
    "</div>"
   ]
  },
  {
   "cell_type": "code",
   "execution_count": 30,
   "metadata": {},
   "outputs": [
    {
     "data": {
      "text/plain": [
       "array([[0.09432645, 0.90567355]])"
      ]
     },
     "execution_count": 30,
     "metadata": {},
     "output_type": "execute_result"
    }
   ],
   "source": [
    "clf.predict_proba(vectorizer.transform(['This movie is not remarkable, touching, or superb in any way']))\n"
   ]
  },
  {
   "cell_type": "markdown",
   "metadata": {},
   "source": [
    "The result is what I expected because the word \"not\" will negate the positive words in the sentence, and negation is not currently a part of the model."
   ]
  },
  {
   "cell_type": "markdown",
   "metadata": {},
   "source": [
    "### Aside: TF-IDF Weighting for Term Importance\n",
    "\n",
    "TF-IDF stands for \n",
    "\n",
    "`Term-Frequency X Inverse Document Frequency`.\n",
    "\n",
    "In the standard `CountVectorizer` model above, we used just the term frequency in a document of words in our vocabulary. In TF-IDF, we weight this term frequency by the inverse of its popularity in all documents. For example, if the word \"movie\" showed up in all the documents, it would not have much predictive value. It could actually be considered a stopword. By weighing its counts by 1 divided by its overall frequency, we downweight it. We can then use this TF-IDF weighted features as inputs to any classifier. **TF-IDF is essentially a measure of term importance, and of how discriminative a word is in a corpus.** There are a variety of nuances involved in computing TF-IDF, mainly involving where to add the smoothing term to avoid division by 0, or log of 0 errors. The formula for TF-IDF in `scikit-learn` differs from that of most textbooks: \n",
    "\n",
    "$$\\mbox{TF-IDF}(t, d) = \\mbox{TF}(t, d)\\times \\mbox{IDF}(t) = n_{td} \\log{\\left( \\frac{\\vert D \\vert}{\\vert d : t \\in d \\vert} + 1 \\right)}$$\n",
    "\n",
    "where $n_{td}$ is the number of times term $t$ occurs in document $d$, $\\vert D \\vert$ is the number of documents, and $\\vert d : t \\in d \\vert$ is the number of documents that contain $t$"
   ]
  },
  {
   "cell_type": "code",
   "execution_count": null,
   "metadata": {},
   "outputs": [],
   "source": [
    "# http://scikit-learn.org/dev/modules/feature_extraction.html#text-feature-extraction\n",
    "# http://scikit-learn.org/dev/modules/classes.html#text-feature-extraction-ref\n",
    "from sklearn.feature_extraction.text import TfidfVectorizer\n",
    "tfidfvectorizer = TfidfVectorizer(min_df=1, stop_words='english')\n",
    "Xtfidf=tfidfvectorizer.fit_transform(critics.quote)"
   ]
  },
  {
   "cell_type": "markdown",
   "metadata": {},
   "source": [
    "<div class=\"span5 alert alert-info\">\n",
    "<h3>Exercise Set VIII: Enrichment <b>(Optional)</b></h3>\n",
    "\n",
    "<p>\n",
    "There are several additional things we could try. Try some of these as exercises:\n",
    "<ol>\n",
    "<li> Build a Naive Bayes model where the features are n-grams instead of words. N-grams are phrases containing n words next to each other: a bigram contains 2 words, a trigram contains 3 words, and 6-gram contains 6 words. This is useful because \"not good\" and \"so good\" mean very different things. On the other hand, as n increases, the model does not scale well since the feature set becomes more sparse.\n",
    "<li> Try a model besides Naive Bayes, one that would allow for interactions between words -- for example, a Random Forest classifier.\n",
    "<li> Try adding supplemental features -- information about genre, director, cast, etc.\n",
    "<li> Use word2vec or [Latent Dirichlet Allocation](https://en.wikipedia.org/wiki/Latent_Dirichlet_allocation) to group words into topics and use those topics for prediction.\n",
    "<li> Use TF-IDF weighting instead of word counts.\n",
    "</ol>\n",
    "</p>\n",
    "\n",
    "<b>Exercise:</b> Try at least one of these ideas to improve the model (or any other ideas of your own). Implement here and report on the result. \n",
    "</div>"
   ]
  },
  {
   "cell_type": "code",
   "execution_count": null,
   "metadata": {},
   "outputs": [],
   "source": [
    "# Your turn"
   ]
  }
 ],
 "metadata": {
  "kernelspec": {
   "display_name": "Python 3",
   "language": "python",
   "name": "python3"
  },
  "language_info": {
   "codemirror_mode": {
    "name": "ipython",
    "version": 3
   },
   "file_extension": ".py",
   "mimetype": "text/x-python",
   "name": "python",
   "nbconvert_exporter": "python",
   "pygments_lexer": "ipython3",
   "version": "3.6.4"
  }
 },
 "nbformat": 4,
 "nbformat_minor": 1
}
